{
 "cells": [
  {
   "cell_type": "code",
   "execution_count": 8,
   "id": "fbbd26fe",
   "metadata": {},
   "outputs": [
    {
     "data": {
      "text/plain": [
       "'\\n有用的其实只要定点v，因为vt纹理坐标和vn顶点法向量都是0，\\nf面为v/vt/vn v/vt/vn v/vt/vn（f 顶点索引 / 纹理坐标索引 / 顶点法向量索引）也没什么意义，\\n原来没有颜色是因为没有将原图的颜色映射回去\\n'"
      ]
     },
     "execution_count": 8,
     "metadata": {},
     "output_type": "execute_result"
    }
   ],
   "source": [
    "import os\n",
    "import numpy as np\n",
    "\"\"\"\n",
    "有用的其实只要定点v，因为vt纹理坐标和vn顶点法向量都是0，\n",
    "f面为v/vt/vn v/vt/vn v/vt/vn（f 顶点索引 / 纹理坐标索引 / 顶点法向量索引）也没什么意义，\n",
    "原来没有颜色是因为没有将原图的颜色映射回去\n",
    "\"\"\""
   ]
  },
  {
   "cell_type": "code",
   "execution_count": 9,
   "id": "8d03f240",
   "metadata": {},
   "outputs": [],
   "source": [
    "def get_data(objFilePath):\n",
    "    with open(objFilePath) as file:\n",
    "        v = []\n",
    "        vt = []\n",
    "        vn = []\n",
    "        f = []\n",
    "\n",
    "        while 1:\n",
    "            line = file.readline()\n",
    "            if not line:\n",
    "                break\n",
    "            strs = line.split(\" \")\n",
    "            if strs[0] == \"v\":\n",
    "                v.append([float(strs[1]), float(strs[2]), float(strs[3])])\n",
    "            elif strs[0] == \"vt\":\n",
    "                vt.append([float(strs[1]), float(strs[2]), float(strs[3])])\n",
    "            elif strs[0] == \"vn\":\n",
    "                vn.append([float(strs[1]), float(strs[2]), float(strs[3])])\n",
    "            elif strs[0] == \"f\":\n",
    "                f.append([float(strs[1]), float(strs[2]), float(strs[3])])\n",
    "    return v,vt,vn,f"
   ]
  },
  {
   "cell_type": "code",
   "execution_count": 10,
   "id": "ea2c2c11",
   "metadata": {},
   "outputs": [
    {
     "name": "stdout",
     "output_type": "stream",
     "text": [
      "294.7931478172449\n"
     ]
    }
   ],
   "source": [
    "import math\n",
    "print(math.sqrt(86903))"
   ]
  },
  {
   "cell_type": "code",
   "execution_count": 7,
   "id": "2a86e9d0",
   "metadata": {},
   "outputs": [
    {
     "data": {
      "text/plain": [
       "43700.0"
      ]
     },
     "execution_count": 7,
     "metadata": {},
     "output_type": "execute_result"
    }
   ],
   "source": [
    "86906/2+247"
   ]
  },
  {
   "cell_type": "code",
   "execution_count": null,
   "id": "f0ad6f0c",
   "metadata": {},
   "outputs": [],
   "source": []
  }
 ],
 "metadata": {
  "kernelspec": {
   "display_name": "Python 3 (ipykernel)",
   "language": "python",
   "name": "python3"
  },
  "language_info": {
   "codemirror_mode": {
    "name": "ipython",
    "version": 3
   },
   "file_extension": ".py",
   "mimetype": "text/x-python",
   "name": "python",
   "nbconvert_exporter": "python",
   "pygments_lexer": "ipython3",
   "version": "3.8.10"
  }
 },
 "nbformat": 4,
 "nbformat_minor": 5
}
